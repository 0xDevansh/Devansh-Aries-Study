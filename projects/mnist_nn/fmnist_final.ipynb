{
 "cells": [
  {
   "cell_type": "markdown",
   "metadata": {},
   "source": [
    "## Fashion MNIST\n",
    "\n",
    "My attempt at creating a single-layer neural network with numpy only and training it to the best possible accuracy"
   ]
  },
  {
   "cell_type": "markdown",
   "metadata": {},
   "source": [
    "import pandas as pd\n",
    "import matplotlib.pyplot as plt\n",
    "import numpy as np\n",
    "import pickle"
   ]
  },
  {
   "cell_type": "code",
   "execution_count": 6,
   "metadata": {},
   "outputs": [],
   "source": [
    "import pandas as pd\n",
    "import matplotlib.pyplot as plt\n",
    "import numpy as np\n",
    "import pickle\n",
    "from pathlib import Path"
   ]
  },
  {
   "cell_type": "code",
   "execution_count": 4,
   "metadata": {},
   "outputs": [],
   "source": [
    "train_data = pd.read_csv('fashion-mnist_train.csv')\n",
    "test_data = pd.read_csv('fashion-mnist_test.csv')\n",
    "X = train_data.drop('label', axis=1).to_numpy()\n",
    "Y = train_data['label'].to_numpy()\n",
    "X_test = test_data.drop('label', axis=1).to_numpy()\n",
    "Y_test = test_data['label'].to_numpy()"
   ]
  },
  {
   "cell_type": "markdown",
   "metadata": {},
   "source": [
    "### Attempt 1: Simple network with sigmoid and MSE loss (no regularization)\n",
    "With batch_size 15 and learning rates starting from 0.1 (that I decreased over multiple runs...), I could achieve a maximum accuracy of 79.5%"
   ]
  },
  {
   "cell_type": "code",
   "execution_count": null,
   "metadata": {},
   "outputs": [],
   "source": [
    "class Network:\n",
    "    def __init__(self, n_hidden, learning_rate, batch_size, lamda, start_params = None):\n",
    "        if start_params is None:\n",
    "            self.w1 = np.random.randn(n_hidden, 784)\n",
    "            self.b1 = np.random.randn(n_hidden, 1)\n",
    "            self.w2 = np.random.randn(10, n_hidden)\n",
    "            self.b2 = np.random.randn(10, 1)\n",
    "        else:\n",
    "            (self.w1, self.w2, self.b1, self.b2) = start_params\n",
    "\n",
    "        self.n_hidden = n_hidden\n",
    "        self.learning_rate = learning_rate\n",
    "        self.batch_size = batch_size\n",
    "        self.lamda = lamda\n",
    "        self.epochs = 0\n",
    "    \n",
    "    def forward(self, x):\n",
    "        z1 = self.w1 @ x + self.b1\n",
    "        a1 = self.sigmoid(z1)\n",
    "        z2 = self.w2 @ a1 + self.b2\n",
    "        a2 = self.sigmoid(z2)\n",
    "        return z1, a1, z2, a2\n",
    "\n",
    "    def y_to_vec(self, y):\n",
    "        # assuming y is (n, 1)\n",
    "        new_y = []\n",
    "        for n in y:\n",
    "            new_row = [1 if n == i else 0 for i in range(10)]\n",
    "            new_y.append(new_row)\n",
    "        return np.array(new_y)\n",
    "\n",
    "    def forward_simple(self, x):\n",
    "        return self.sigmoid(self.w2 @ self.sigmoid(self.w1 @ x + self.b1) + self.b2)\n",
    "    \n",
    "    def test_loss(self, x_test, y_test):\n",
    "        xt = x_test.T\n",
    "        yt = self.y_to_vec(y_test).T\n",
    "        return ((self.forward_simple(xt) - yt) ** 2).flatten().mean()\n",
    "    \n",
    "    def test_accuracy(self, xt, yt):\n",
    "        xt = xt.T\n",
    "        yt = yt.T\n",
    "        res = np.argmax(self.forward_simple(xt), axis=0)\n",
    "        unique, counts = np.unique(yt == res, return_counts=True)\n",
    "        d = dict(zip(unique, counts))\n",
    "        return (d[0], d[1])\n",
    "    \n",
    "    def train(self, epochs, x, y, x_t, y_t):\n",
    "        # each training example is a row!\n",
    "        n = x.shape[0]\n",
    "        accuracies = []\n",
    "        mse_vals = []\n",
    "        for ep in range(epochs):\n",
    "            idx = np.arange(n)\n",
    "            np.random.shuffle(idx)\n",
    "            x = x[idx]\n",
    "            y = y[idx]\n",
    "\n",
    "            losses = []\n",
    "            for i in range(0, n, self.batch_size):\n",
    "                xb = x[i:i + self.batch_size]\n",
    "                yb = y[i:i + self.batch_size]\n",
    "                loss = self.process_batch(xb, yb)\n",
    "                losses.append(loss)\n",
    "            \n",
    "            mse = sum(losses) / (n // self.batch_size)\n",
    "            # test_mse = self.test_loss(x_t, y_t)\n",
    "            d0, d1 = self.test_accuracy(x_t, y_t)\n",
    "            accuracies.append(d1 / x_t.shape[0])\n",
    "            mse_vals.append(mse)\n",
    "            print(f'{ep}: {round(mse, 4)}  {d1}/{x_t.shape[0]}')\n",
    "            self.epochs += 1\n",
    "        return mse_vals, accuracies\n",
    "    \n",
    "    def process_batch(self, x, y):\n",
    "        # we want this to be (784, n)\n",
    "        x = x.T\n",
    "        y = self.y_to_vec(y).T\n",
    "        assert x.shape[0] == 784 and y.shape[0] == 10\n",
    "        dw1 = np.zeros(self.w1.shape)\n",
    "        dw2 = np.zeros(self.w2.shape)\n",
    "        db1 = np.zeros(self.b1.shape)\n",
    "        db2 = np.zeros(self.b2.shape)\n",
    "\n",
    "        for i in range(self.batch_size):\n",
    "            xx = x[:,i].copy().reshape(-1,1)\n",
    "            yy = y[:,i].copy().reshape(-1,1)\n",
    "            z1, a1, z2, a2 = self.forward(xx)\n",
    "            delta2 = (a2 - yy) * self.sigmoid_derivative(z2)\n",
    "            delta1 = (self.w2.T @ delta2) * self.sigmoid_derivative(z1)\n",
    "            dw1 += np.outer(delta1, xx) / self.batch_size\n",
    "            dw2 += np.outer(delta2, a1) / self.batch_size\n",
    "            db1 += delta1 / self.batch_size\n",
    "            db2 += delta2 / self.batch_size\n",
    "\n",
    "        self.w1 = self.w1 * (1 - self.lamda) - self.learning_rate * dw1\n",
    "        self.w2 = self.w2 * (1 - self.lamda) - self.learning_rate * dw2\n",
    "        self.b1 -= self.learning_rate * db1\n",
    "        self.b2 -= self.learning_rate * db2\n",
    "\n",
    "        # return MSE\n",
    "        return ((a2 - y)**2).flatten().sum() / self.batch_size / 10\n",
    "        \n",
    "    def sigmoid(self, x):\n",
    "        return 1 / (1 + np.exp(-x))\n",
    "    \n",
    "    def sigmoid_derivative(self, x):\n",
    "        return self.sigmoid(x) * (1 - self.sigmoid(x))"
   ]
  },
  {
   "cell_type": "code",
   "execution_count": null,
   "metadata": {},
   "outputs": [],
   "source": [
    "n = Network(100, 0.0005, 50, 0.0)\n",
    "if Path('network1.pkl').is_file():\n",
    "    with open('network1.pkl', 'rb') as file:\n",
    "        n = pickle.load(file)\n",
    "mse, acc = n.train(100, X, Y, X_test, Y_test)"
   ]
  },
  {
   "cell_type": "code",
   "execution_count": null,
   "metadata": {},
   "outputs": [],
   "source": [
    "# Run this cell if you have got a satisfactory rate and want to lock in future runs\n",
    "with open('network1.pkl', 'wb') as file:\n",
    "    pickle.dump(n, file)"
   ]
  },
  {
   "cell_type": "markdown",
   "metadata": {},
   "source": [
    "I also tried with some L2 regularisation but didn't get satisfactory results.\n",
    "\n",
    "## Part 2: Building the nwtwork with pytorch"
   ]
  },
  {
   "cell_type": "code",
   "execution_count": 1,
   "metadata": {},
   "outputs": [],
   "source": [
    "import pandas as pd\n",
    "import matplotlib.pyplot as plt\n",
    "import numpy as np\n",
    "import torch\n",
    "from torch import nn\n",
    "import torch.nn.functional as F\n",
    "from torchvision import datasets\n",
    "from torchvision.transforms import ToTensor\n",
    "from torch.utils.data import DataLoader"
   ]
  },
  {
   "cell_type": "code",
   "execution_count": 2,
   "metadata": {},
   "outputs": [
    {
     "name": "stdout",
     "output_type": "stream",
     "text": [
      "Train data size: 60000\n",
      "Test data size: 10000\n"
     ]
    }
   ],
   "source": [
    "# Downloading the data\n",
    "train_data = datasets.FashionMNIST(\n",
    "    root='data',\n",
    "    train=True,\n",
    "    download=True,\n",
    "    transform=ToTensor()\n",
    ")\n",
    "test_data = datasets.FashionMNIST(\n",
    "    root='data',\n",
    "    train=False,\n",
    "    download=True,\n",
    "    transform=ToTensor()\n",
    ")\n",
    "print(f'Train data size: {len(train_data)}')\n",
    "print(f'Test data size: {len(test_data)}')"
   ]
  },
  {
   "cell_type": "code",
   "execution_count": 39,
   "metadata": {},
   "outputs": [],
   "source": [
    "def init_network(n_hidden, learning_rate):\n",
    "    model = torch.nn.Sequential(\n",
    "        nn.Flatten(),\n",
    "        nn.Linear(784, n_hidden),\n",
    "        nn.Sigmoid(),\n",
    "        nn.Linear(n_hidden, 10),\n",
    "        nn.Sigmoid(),\n",
    "    )\n",
    "    optimizer = torch.optim.SGD(model.parameters(), lr=learning_rate)\n",
    "    loss_fn = nn.CrossEntropyLoss()\n",
    "    return model, optimizer, loss_fn\n",
    "\n",
    "def train_model(train_data, test_data, model, loss_fn, optimizer, batch_size, epochs=100):\n",
    "    # A DataLoader handles shuffling and dividing mini batches while training with good performance\n",
    "    train_dataloader = DataLoader(train_data, batch_size=batch_size, shuffle=True)\n",
    "    test_dataloader = DataLoader(test_data, batch_size=batch_size, shuffle=True)\n",
    "    train_loss = []\n",
    "    test_accuracy = []\n",
    "    \n",
    "    for ep in range(epochs):\n",
    "        loss_val = 0\n",
    "        # training\n",
    "        for x, y in train_dataloader:\n",
    "            # print(x.shape, y.shape, model(x).shape)\n",
    "            # print(y)\n",
    "            optimizer.zero_grad()\n",
    "            pred = model(x)\n",
    "            \n",
    "            loss = loss_fn(pred, y)\n",
    "            loss.backward()\n",
    "            optimizer.step()\n",
    "            loss_val += loss.data.item() / batch_size\n",
    "        avg_loss = loss_val / len(train_dataloader)\n",
    "        train_loss.append(avg_loss)\n",
    "        \n",
    "        # finding accuracy:\n",
    "        correct = 0\n",
    "        for x, y in test_dataloader:\n",
    "            pred_t = model(x)\n",
    "            label = torch.argmax(pred_t, 1)\n",
    "            correct += (label == y).sum().item()\n",
    "        accuracy = correct / len(test_data)\n",
    "        test_accuracy.append(accuracy)\n",
    "        print(f'{ep}: {round(avg_loss, 4)} --- {round(accuracy, 2)}')\n",
    "    return train_loss, test_accuracy"
   ]
  },
  {
   "cell_type": "code",
   "execution_count": 46,
   "metadata": {},
   "outputs": [
    {
     "name": "stdout",
     "output_type": "stream",
     "text": [
      "0: 0.0271 --- 0.52\n",
      "1: 0.0259 --- 0.51\n",
      "2: 0.0257 --- 0.52\n",
      "3: 0.0255 --- 0.55\n",
      "4: 0.0254 --- 0.55\n",
      "5: 0.0254 --- 0.58\n",
      "6: 0.0253 --- 0.62\n",
      "7: 0.0251 --- 0.72\n",
      "8: 0.025 --- 0.72\n",
      "9: 0.0249 --- 0.75\n",
      "10: 0.0248 --- 0.78\n",
      "11: 0.0248 --- 0.78\n",
      "12: 0.0247 --- 0.81\n",
      "13: 0.0247 --- 0.83\n",
      "14: 0.0245 --- 0.83\n",
      "15: 0.0244 --- 0.84\n",
      "16: 0.0244 --- 0.84\n",
      "17: 0.0243 --- 0.84\n",
      "18: 0.0243 --- 0.84\n",
      "19: 0.0243 --- 0.84\n",
      "20: 0.0243 --- 0.84\n",
      "21: 0.0242 --- 0.85\n",
      "22: 0.0242 --- 0.85\n",
      "23: 0.0242 --- 0.85\n",
      "24: 0.0242 --- 0.85\n",
      "25: 0.0242 --- 0.85\n",
      "26: 0.0242 --- 0.85\n",
      "27: 0.0242 --- 0.85\n",
      "28: 0.0241 --- 0.85\n",
      "29: 0.0241 --- 0.85\n",
      "30: 0.0241 --- 0.85\n",
      "31: 0.0241 --- 0.85\n",
      "32: 0.0241 --- 0.85\n",
      "33: 0.0241 --- 0.85\n",
      "34: 0.0241 --- 0.86\n",
      "35: 0.0241 --- 0.86\n",
      "36: 0.0241 --- 0.86\n",
      "37: 0.024 --- 0.86\n",
      "38: 0.024 --- 0.86\n",
      "39: 0.024 --- 0.86\n",
      "40: 0.024 --- 0.86\n",
      "41: 0.024 --- 0.86\n",
      "42: 0.024 --- 0.86\n",
      "43: 0.024 --- 0.85\n",
      "44: 0.024 --- 0.86\n",
      "45: 0.024 --- 0.87\n",
      "46: 0.024 --- 0.86\n",
      "47: 0.024 --- 0.86\n",
      "48: 0.024 --- 0.86\n",
      "49: 0.0239 --- 0.87\n",
      "0: 0.0239 --- 0.86\n",
      "1: 0.0239 --- 0.86\n",
      "2: 0.0239 --- 0.87\n",
      "3: 0.0239 --- 0.86\n",
      "4: 0.0239 --- 0.86\n",
      "5: 0.0239 --- 0.86\n",
      "6: 0.0239 --- 0.86\n",
      "7: 0.0239 --- 0.86\n",
      "8: 0.0239 --- 0.86\n",
      "9: 0.0239 --- 0.87\n",
      "10: 0.0239 --- 0.87\n",
      "11: 0.0239 --- 0.87\n",
      "12: 0.0239 --- 0.87\n",
      "13: 0.0239 --- 0.87\n",
      "14: 0.0239 --- 0.87\n",
      "15: 0.0239 --- 0.87\n",
      "16: 0.0238 --- 0.87\n",
      "17: 0.0238 --- 0.87\n",
      "18: 0.0238 --- 0.87\n",
      "19: 0.0238 --- 0.86\n",
      "20: 0.0238 --- 0.87\n",
      "21: 0.0238 --- 0.87\n",
      "22: 0.0238 --- 0.87\n",
      "23: 0.0238 --- 0.87\n",
      "24: 0.0238 --- 0.87\n"
     ]
    },
    {
     "data": {
      "image/png": "[encoded data removed]",
      "text/plain": [
       "<Figure size 640x480 with 1 Axes>"
      ]
     },
     "metadata": {},
     "output_type": "display_data"
    },
    {
     "data": {
      "image/png": "[encoded data removed]",
      "text/plain": [
       "<Figure size 640x480 with 1 Axes>"
      ]
     },
     "metadata": {},
     "output_type": "display_data"
    }
   ],
   "source": [
    "model, optimizer, loss_fn = init_network(256, 1)\n",
    "tr_loss, accuracy = train_model(train_data, test_data, model, loss_fn, optimizer, 64, 50)\n",
    "# now we train some more epochs with a slower learning rate (this is a sort of manual rate scheduling)\n",
    "optimiser = torch.optim.SGD(model.parameters(), lr=0.1)\n",
    "tr_loss2, accuracy2 = train_model(train_data, test_data, model, loss_fn, optimizer, 64, 25)\n",
    "tr_loss += tr_loss2\n",
    "accuracy += accuracy2\n",
    "\n",
    "plt.plot(tr_loss)\n",
    "plt.show()\n",
    "plt.plot(accuracy)\n",
    "plt.show()"
   ]
  },
  {
   "cell_type": "markdown",
   "metadata": {},
   "source": [
    "The above network maxes out at 87% accuracy which is much better than the last one."
   ]
  }
 ],
 "metadata": {
  "kernelspec": {
   "display_name": ".venv",
   "language": "python",
   "name": "python3"
  },
  "language_info": {
   "codemirror_mode": {
    "name": "ipython",
    "version": 3
   },
   "file_extension": ".py",
   "mimetype": "text/x-python",
   "name": "python",
   "nbconvert_exporter": "python",
   "pygments_lexer": "ipython3",
   "version": "3.13.3"
  }
 },
 "nbformat": 4,
 "nbformat_minor": 2
}
