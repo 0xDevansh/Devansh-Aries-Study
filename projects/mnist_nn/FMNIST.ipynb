{
  "cells": [
    {
      "cell_type": "code",
      "execution_count": null,
      "metadata": {
        "colab": {
          "base_uri": "https://localhost:8080/"
        },
        "id": "wOKxc4BHZGlV",
        "outputId": "bc28ff71-6864-40a1-fe47-e0ac38484d19"
      },
      "outputs": [
        {
          "output_type": "stream",
          "name": "stdout",
          "text": [
            "--2025-05-19 02:33:34--  http://fashion-mnist.s3-website.eu-central-1.amazonaws.com/train-images-idx3-ubyte.gz\n",
            "Resolving fashion-mnist.s3-website.eu-central-1.amazonaws.com (fashion-mnist.s3-website.eu-central-1.amazonaws.com)... 3.5.138.176, 3.5.138.42, 52.219.171.88, ...\n",
            "Connecting to fashion-mnist.s3-website.eu-central-1.amazonaws.com (fashion-mnist.s3-website.eu-central-1.amazonaws.com)|3.5.138.176|:80... connected.\n",
            "HTTP request sent, awaiting response... 200 OK\n",
            "Length: 26421880 (25M) [binary/octet-stream]\n",
            "Saving to: ‘train-images-idx3-ubyte.gz’\n",
            "\n",
            "train-images-idx3-u 100%[===================>]  25.20M  17.0MB/s    in 1.5s    \n",
            "\n",
            "2025-05-19 02:33:36 (17.0 MB/s) - ‘train-images-idx3-ubyte.gz’ saved [26421880/26421880]\n",
            "\n",
            "--2025-05-19 02:33:36--  http://fashion-mnist.s3-website.eu-central-1.amazonaws.com/train-labels-idx1-ubyte.gz\n",
            "Resolving fashion-mnist.s3-website.eu-central-1.amazonaws.com (fashion-mnist.s3-website.eu-central-1.amazonaws.com)... 3.5.138.176, 3.5.138.42, 52.219.171.88, ...\n",
            "Connecting to fashion-mnist.s3-website.eu-central-1.amazonaws.com (fashion-mnist.s3-website.eu-central-1.amazonaws.com)|3.5.138.176|:80... connected.\n",
            "HTTP request sent, awaiting response... 200 OK\n",
            "Length: 29515 (29K) [binary/octet-stream]\n",
            "Saving to: ‘train-labels-idx1-ubyte.gz’\n",
            "\n",
            "train-labels-idx1-u 100%[===================>]  28.82K  --.-KB/s    in 0.1s    \n",
            "\n",
            "2025-05-19 02:33:36 (287 KB/s) - ‘train-labels-idx1-ubyte.gz’ saved [29515/29515]\n",
            "\n",
            "--2025-05-19 02:33:36--  http://fashion-mnist.s3-website.eu-central-1.amazonaws.com/t10k-images-idx3-ubyte.gz\n",
            "Resolving fashion-mnist.s3-website.eu-central-1.amazonaws.com (fashion-mnist.s3-website.eu-central-1.amazonaws.com)... 3.5.138.176, 3.5.138.42, 52.219.171.88, ...\n",
            "Connecting to fashion-mnist.s3-website.eu-central-1.amazonaws.com (fashion-mnist.s3-website.eu-central-1.amazonaws.com)|3.5.138.176|:80... connected.\n",
            "HTTP request sent, awaiting response... 200 OK\n",
            "Length: 4422102 (4.2M) [binary/octet-stream]\n",
            "Saving to: ‘t10k-images-idx3-ubyte.gz’\n",
            "\n",
            "t10k-images-idx3-ub 100%[===================>]   4.22M  5.21MB/s    in 0.8s    \n",
            "\n",
            "2025-05-19 02:33:37 (5.21 MB/s) - ‘t10k-images-idx3-ubyte.gz’ saved [4422102/4422102]\n",
            "\n",
            "--2025-05-19 02:33:38--  http://fashion-mnist.s3-website.eu-central-1.amazonaws.com/t10k-labels-idx1-ubyte.gz\n",
            "Resolving fashion-mnist.s3-website.eu-central-1.amazonaws.com (fashion-mnist.s3-website.eu-central-1.amazonaws.com)... 3.5.138.176, 3.5.138.42, 52.219.171.88, ...\n",
            "Connecting to fashion-mnist.s3-website.eu-central-1.amazonaws.com (fashion-mnist.s3-website.eu-central-1.amazonaws.com)|3.5.138.176|:80... connected.\n",
            "HTTP request sent, awaiting response... 200 OK\n",
            "Length: 5148 (5.0K) [binary/octet-stream]\n",
            "Saving to: ‘t10k-labels-idx1-ubyte.gz’\n",
            "\n",
            "t10k-labels-idx1-ub 100%[===================>]   5.03K  --.-KB/s    in 0s      \n",
            "\n",
            "2025-05-19 02:33:38 (364 MB/s) - ‘t10k-labels-idx1-ubyte.gz’ saved [5148/5148]\n",
            "\n"
          ]
        }
      ],
      "source": [
        "!rm -rf master.zip\n",
        "!wget http://fashion-mnist.s3-website.eu-central-1.amazonaws.com/train-images-idx3-ubyte.gz\n",
        "!wget http://fashion-mnist.s3-website.eu-central-1.amazonaws.com/train-labels-idx1-ubyte.gz\n",
        "!wget http://fashion-mnist.s3-website.eu-central-1.amazonaws.com/t10k-images-idx3-ubyte.gz\n",
        "!wget http://fashion-mnist.s3-website.eu-central-1.amazonaws.com/t10k-labels-idx1-ubyte.gz"
      ]
    },
    {
      "cell_type": "code",
      "execution_count": null,
      "metadata": {
        "id": "1zFAUjGc3pyr"
      },
      "outputs": [],
      "source": [
        "# from https://github.com/zalandoresearch/fashion-mnist/blob/master/utils/mnist_reader.py\n",
        "def load_mnist(path, kind='train'):\n",
        "    import os\n",
        "    import gzip\n",
        "    import numpy as np\n",
        "\n",
        "    \"\"\"Load MNIST data from `path`\"\"\"\n",
        "    labels_path = os.path.join(path,\n",
        "                               '%s-labels-idx1-ubyte.gz'\n",
        "                               % kind)\n",
        "    images_path = os.path.join(path,\n",
        "                               '%s-images-idx3-ubyte.gz'\n",
        "                               % kind)\n",
        "\n",
        "    with gzip.open(labels_path, 'rb') as lbpath:\n",
        "        labels = np.frombuffer(lbpath.read(), dtype=np.uint8,\n",
        "                               offset=8)\n",
        "\n",
        "    with gzip.open(images_path, 'rb') as imgpath:\n",
        "        images = np.frombuffer(imgpath.read(), dtype=np.uint8,\n",
        "                               offset=16).reshape(len(labels), 784)\n",
        "\n",
        "    return images, labels"
      ]
    },
    {
      "cell_type": "code",
      "execution_count": null,
      "metadata": {
        "id": "nlWsfYpjZxvG"
      },
      "outputs": [],
      "source": [
        "import pickle\n",
        "import gzip\n",
        "import pandas as pd\n",
        "import numpy as np\n",
        "import matplotlib.pyplot as plt\n",
        "import torch"
      ]
    },
    {
      "cell_type": "code",
      "execution_count": null,
      "metadata": {
        "colab": {
          "base_uri": "https://localhost:8080/"
        },
        "id": "4y3Al8Br3Wdx",
        "outputId": "2543d04f-fd4a-4537-dabd-9cec94062c48"
      },
      "outputs": [
        {
          "output_type": "execute_result",
          "data": {
            "text/plain": [
              "(60000, 784)"
            ]
          },
          "metadata": {},
          "execution_count": 4
        }
      ],
      "source": [
        "images, labels = load_mnist('.')\n",
        "Y = labels.reshape(-1, 1)\n",
        "X = images\n",
        "X.shape"
      ]
    },
    {
      "cell_type": "code",
      "execution_count": null,
      "metadata": {
        "id": "tHM-3ocjGOLh"
      },
      "outputs": [],
      "source": []
    },
    {
      "cell_type": "code",
      "execution_count": null,
      "metadata": {
        "colab": {
          "base_uri": "https://localhost:8080/",
          "height": 448
        },
        "id": "QFEGybh55Oss",
        "outputId": "9b4dcd41-649d-4683-fd45-edd5b65618fd"
      },
      "outputs": [
        {
          "output_type": "execute_result",
          "data": {
            "text/plain": [
              "<matplotlib.image.AxesImage at 0x7de79fe25f50>"
            ]
          },
          "metadata": {},
          "execution_count": 5
        },
        {
          "output_type": "display_data",
          "data": {
            "text/plain": [
              "<Figure size 640x480 with 1 Axes>"
            ],
            "image/png": "[encoded data removed]"
          },
          "metadata": {}
        }
      ],
      "source": [
        "plt.imshow(X[18].reshape(28, 28), cmap='grey')"
      ]
    },
    {
      "cell_type": "code",
      "execution_count": null,
      "metadata": {
        "id": "Ckc19ycN49Zn"
      },
      "outputs": [],
      "source": [
        "layers = (784, 30, 10)\n",
        "# no of neurons in each layer\n",
        "\n",
        "weight_mats = []\n",
        "biases = []\n",
        "\n",
        "for l_1, l in zip(layers, layers[1:]):\n",
        "  weight_mats.append(np.random.randn(l, l_1))\n",
        "  biases.append(np.random.randn(l, 1))\n",
        "\n",
        "def sigmoid(x): # x is a vector\n",
        "  return 1 / (1 + np.exp(-x))\n",
        "\n",
        "\n",
        "def forward(x): # x is a vector of length 784\n",
        "  a_vals = [x]\n",
        "  z_vals = []\n",
        "  for w, b in zip(weight_mats, biases):\n",
        "    z = w @ x + b\n",
        "    z_vals.append(z)\n",
        "    x = sigmoid(z)\n",
        "    a_vals.append(x)\n",
        "  return x, z_vals, a_vals"
      ]
    },
    {
      "cell_type": "code",
      "execution_count": null,
      "metadata": {
        "colab": {
          "base_uri": "https://localhost:8080/"
        },
        "id": "o3SE7IZc72bU",
        "outputId": "6787b33e-6cbe-4db6-aaa9-780adbeb0b2b"
      },
      "outputs": [
        {
          "output_type": "stream",
          "name": "stderr",
          "text": [
            "<ipython-input-6-7e9aa2b01f42>:12: RuntimeWarning: overflow encountered in exp\n",
            "  return 1 / (1 + np.exp(-x))\n"
          ]
        }
      ],
      "source": [
        "images, labels = load_mnist('.', kind='t10k')\n",
        "test_y = labels.reshape(-1, 1)\n",
        "test_x = images\n",
        "test_x.shape\n",
        "\n",
        "pred, xx, yy = forward(test_x.transpose())\n",
        "def get_max_val(col):\n",
        "  mv = max(col)\n",
        "  for i, v in enumerate(col):\n",
        "    if v == mv:\n",
        "      return i\n",
        "\n",
        "pred_i = np.apply_along_axis(get_max_val, 0, pred).reshape(-1, 1)\n",
        "\n",
        "def print_test_accuracy():\n",
        "  pred, xx, yy = forward(test_x.transpose())\n",
        "  pred_i = np.apply_along_axis(get_max_val, 0, pred).reshape(-1, 1)\n",
        "  print(f'Accuracy: {(pred_i == test_y).sum()} / 10,000')"
      ]
    },
    {
      "cell_type": "code",
      "execution_count": null,
      "metadata": {
        "colab": {
          "base_uri": "https://localhost:8080/",
          "height": 1000
        },
        "id": "hASsp7qUCz5r",
        "outputId": "3ffb1bd4-1cf6-4017-9fb6-8cfb0df7634b"
      },
      "outputs": [
        {
          "output_type": "stream",
          "name": "stdout",
          "text": [
            "EPOCH 0\n"
          ]
        },
        {
          "output_type": "stream",
          "name": "stderr",
          "text": [
            "<ipython-input-6-7e9aa2b01f42>:12: RuntimeWarning: overflow encountered in exp\n",
            "  return 1 / (1 + np.exp(-x))\n"
          ]
        },
        {
          "output_type": "stream",
          "name": "stdout",
          "text": [
            "Accuracy: 1194 / 10,000\n",
            "LOSS: 4.796047960342215\n",
            "EPOCH 1\n",
            "LOSS: 0.9599673881519311\n",
            "EPOCH 2\n",
            "LOSS: 0.959719022015968\n",
            "EPOCH 3\n",
            "LOSS: 0.5667831081529868\n",
            "EPOCH 4\n",
            "LOSS: 0.9136041655313963\n",
            "EPOCH 5\n",
            "LOSS: 0.8693551634240132\n",
            "EPOCH 6\n",
            "LOSS: 0.615197750530518\n",
            "EPOCH 7\n",
            "LOSS: 0.723399201296482\n",
            "EPOCH 8\n",
            "LOSS: 0.908446177415696\n",
            "EPOCH 9\n",
            "LOSS: 0.6366752426291196\n",
            "EPOCH 10\n",
            "Accuracy: 5476 / 10,000\n",
            "LOSS: 0.49017132898427784\n",
            "EPOCH 11\n",
            "LOSS: 0.5256432832937203\n",
            "EPOCH 12\n",
            "LOSS: 0.3906718851042738\n",
            "EPOCH 13\n",
            "LOSS: 0.6839836131324429\n",
            "EPOCH 14\n",
            "LOSS: 0.47094616335994843\n",
            "EPOCH 15\n",
            "LOSS: 0.6722672405891714\n",
            "EPOCH 16\n",
            "LOSS: 0.5071650504070904\n",
            "EPOCH 17\n",
            "LOSS: 0.7029712781776025\n",
            "EPOCH 18\n",
            "LOSS: 0.7049832566933096\n",
            "EPOCH 19\n",
            "LOSS: 0.4420563637883001\n",
            "EPOCH 20\n",
            "Accuracy: 6553 / 10,000\n",
            "LOSS: 0.35332980060135116\n"
          ]
        },
        {
          "output_type": "error",
          "ename": "KeyboardInterrupt",
          "evalue": "",
          "traceback": [
            "\u001b[0;31m---------------------------------------------------------------------------\u001b[0m",
            "\u001b[0;31mKeyboardInterrupt\u001b[0m                         Traceback (most recent call last)",
            "\u001b[0;32m<ipython-input-8-225ce7943119>\u001b[0m in \u001b[0;36m<cell line: 0>\u001b[0;34m()\u001b[0m\n\u001b[1;32m     24\u001b[0m     \u001b[0my\u001b[0m \u001b[0;34m=\u001b[0m \u001b[0mnp\u001b[0m\u001b[0;34m.\u001b[0m\u001b[0marray\u001b[0m\u001b[0;34m(\u001b[0m\u001b[0;34m[\u001b[0m\u001b[0;34m[\u001b[0m\u001b[0;36m1\u001b[0m \u001b[0;32mif\u001b[0m \u001b[0mi\u001b[0m \u001b[0;34m==\u001b[0m \u001b[0mn\u001b[0m \u001b[0;32melse\u001b[0m \u001b[0;36m0\u001b[0m \u001b[0;32mfor\u001b[0m \u001b[0mi\u001b[0m \u001b[0;32min\u001b[0m \u001b[0mrange\u001b[0m\u001b[0;34m(\u001b[0m\u001b[0;36m10\u001b[0m\u001b[0;34m)\u001b[0m\u001b[0;34m]\u001b[0m \u001b[0;32mfor\u001b[0m \u001b[0mn\u001b[0m \u001b[0;32min\u001b[0m \u001b[0my\u001b[0m\u001b[0;34m.\u001b[0m\u001b[0mflatten\u001b[0m\u001b[0;34m(\u001b[0m\u001b[0;34m)\u001b[0m\u001b[0;34m]\u001b[0m\u001b[0;34m)\u001b[0m\u001b[0;34m.\u001b[0m\u001b[0mtranspose\u001b[0m\u001b[0;34m(\u001b[0m\u001b[0;34m)\u001b[0m\u001b[0;34m\u001b[0m\u001b[0;34m\u001b[0m\u001b[0m\n\u001b[1;32m     25\u001b[0m \u001b[0;34m\u001b[0m\u001b[0m\n\u001b[0;32m---> 26\u001b[0;31m     \u001b[0mp\u001b[0m\u001b[0;34m,\u001b[0m \u001b[0mz_vals\u001b[0m\u001b[0;34m,\u001b[0m \u001b[0ma_vals\u001b[0m \u001b[0;34m=\u001b[0m \u001b[0mforward\u001b[0m\u001b[0;34m(\u001b[0m\u001b[0mx\u001b[0m\u001b[0;34m)\u001b[0m\u001b[0;34m\u001b[0m\u001b[0;34m\u001b[0m\u001b[0m\n\u001b[0m\u001b[1;32m     27\u001b[0m \u001b[0;34m\u001b[0m\u001b[0m\n\u001b[1;32m     28\u001b[0m     \u001b[0;31m# print loss if first run of this batch\u001b[0m\u001b[0;34m\u001b[0m\u001b[0;34m\u001b[0m\u001b[0m\n",
            "\u001b[0;32m<ipython-input-6-7e9aa2b01f42>\u001b[0m in \u001b[0;36mforward\u001b[0;34m(x)\u001b[0m\n\u001b[1;32m     20\u001b[0m     \u001b[0mz_vals\u001b[0m\u001b[0;34m.\u001b[0m\u001b[0mappend\u001b[0m\u001b[0;34m(\u001b[0m\u001b[0mz\u001b[0m\u001b[0;34m)\u001b[0m\u001b[0;34m\u001b[0m\u001b[0;34m\u001b[0m\u001b[0m\n\u001b[1;32m     21\u001b[0m     \u001b[0mx\u001b[0m \u001b[0;34m=\u001b[0m \u001b[0msigmoid\u001b[0m\u001b[0;34m(\u001b[0m\u001b[0mz\u001b[0m\u001b[0;34m)\u001b[0m\u001b[0;34m\u001b[0m\u001b[0;34m\u001b[0m\u001b[0m\n\u001b[0;32m---> 22\u001b[0;31m     \u001b[0ma_vals\u001b[0m\u001b[0;34m.\u001b[0m\u001b[0mappend\u001b[0m\u001b[0;34m(\u001b[0m\u001b[0mx\u001b[0m\u001b[0;34m)\u001b[0m\u001b[0;34m\u001b[0m\u001b[0;34m\u001b[0m\u001b[0m\n\u001b[0m\u001b[1;32m     23\u001b[0m   \u001b[0;32mreturn\u001b[0m \u001b[0mx\u001b[0m\u001b[0;34m,\u001b[0m \u001b[0mz_vals\u001b[0m\u001b[0;34m,\u001b[0m \u001b[0ma_vals\u001b[0m\u001b[0;34m\u001b[0m\u001b[0;34m\u001b[0m\u001b[0m\n",
            "\u001b[0;31mKeyboardInterrupt\u001b[0m: "
          ]
        }
      ],
      "source": [
        "# training\n",
        "BATCH_SIZE = 10\n",
        "LEARNING_RATE = 0.001\n",
        "\n",
        "STOP_LOSS = 0.2 # stop when loss is less than this value\n",
        "\n",
        "break_signal = False\n",
        "\n",
        "for epoch in range(1000):\n",
        "  if break_signal:\n",
        "    break\n",
        "  print(f'EPOCH {epoch}')\n",
        "\n",
        "  if epoch % 10 == 0:\n",
        "    print_test_accuracy()\n",
        "\n",
        "  index = np.arange(X.shape[0])\n",
        "  np.random.shuffle(index)\n",
        "  x_shuffled = X[index]\n",
        "  y_shuffled = Y[index]\n",
        "  for i in range(0, X.shape[0], BATCH_SIZE):\n",
        "    x = x_shuffled[i:i+BATCH_SIZE].transpose()\n",
        "    y = y_shuffled[i:i+BATCH_SIZE]\n",
        "    y = np.array([[1 if i == n else 0 for i in range(10)] for n in y.flatten()]).transpose()\n",
        "\n",
        "    p, z_vals, a_vals = forward(x)\n",
        "\n",
        "    # print loss if first run of this batch\n",
        "    if i == 0:\n",
        "      loss = (p - y) ** 2\n",
        "      loss = loss.sum() / BATCH_SIZE\n",
        "      if loss < STOP_LOSS:\n",
        "        break_signal = True\n",
        "        break\n",
        "      print(f'LOSS: {loss}')\n",
        "\n",
        "    del_C = p - y\n",
        "    z_L = z_vals[-1]\n",
        "    sigma_dash_z_L = sigmoid(z_L) * (1 - sigmoid(z_L))\n",
        "\n",
        "    deltas = [0] * (len(layers) - 1)\n",
        "    deltas[-1] = del_C * sigma_dash_z_L\n",
        "    for i in range(2, len(deltas) + 1):\n",
        "      w_T = weight_mats[-i + 1].transpose()\n",
        "      delta_l_1 = deltas[-i + 1]\n",
        "      sigma_dash_z_L = sigmoid(z_vals[-i]) * (1 - sigmoid(z_vals[-i]))\n",
        "      deltas[-i] = (w_T @ delta_l_1) * sigma_dash_z_L\n",
        "    for w, delta, act, i in zip(weight_mats, deltas, a_vals, range(len(weight_mats))):\n",
        "      # find del w\n",
        "      del_w = delta @ act.transpose()\n",
        "      w -= LEARNING_RATE * del_w\n",
        "      weight_mats[i] = w\n",
        "    for b, delta, i in zip(biases, deltas, range(len(biases))):\n",
        "      del_b = delta.sum(axis=1, keepdims=True) / BATCH_SIZE\n",
        "      b -= LEARNING_RATE * del_b\n",
        "      biases[i] = b"
      ]
    },
    {
      "cell_type": "code",
      "execution_count": null,
      "metadata": {
        "colab": {
          "base_uri": "https://localhost:8080/"
        },
        "id": "HeY39Nb120_t",
        "outputId": "d3b15c8e-4f45-4083-a22f-00cf8a23ce4d"
      },
      "outputs": [
        {
          "output_type": "stream",
          "name": "stderr",
          "text": [
            "<ipython-input-6-7e9aa2b01f42>:12: RuntimeWarning: overflow encountered in exp\n",
            "  return 1 / (1 + np.exp(-x))\n"
          ]
        },
        {
          "output_type": "execute_result",
          "data": {
            "text/plain": [
              "(10, 30)"
            ]
          },
          "metadata": {},
          "execution_count": 9
        }
      ],
      "source": [
        "p, a, b = forward(X[45])\n",
        "p.shape"
      ]
    },
    {
      "cell_type": "code",
      "source": [
        "## TIME TO USE TORCH FFS\n",
        "import torch"
      ],
      "metadata": {
        "id": "tCaYxley67_U"
      },
      "execution_count": null,
      "outputs": []
    },
    {
      "cell_type": "code",
      "source": [
        "layers = (784, 30, 10)\n",
        "# no of neurons in each layer\n",
        "\n",
        "weight_mats = []\n",
        "biases = []\n",
        "\n",
        "for l_1, l in zip(layers, layers[1:]):\n",
        "  weight_mats.append(torch.randn(l, l_1, dtype=torch.float, requires_grad=True))\n",
        "  biases.append(torch.randn(l, 1, dtype=torch.float, requires_grad=True))\n",
        "\n",
        "def sigmoid(x): # x is a vector\n",
        "  return 1 / (1 + torch.exp(-x))\n",
        "\n",
        "\n",
        "def forward(x): # x is a vector of length 784\n",
        "  for w, b in zip(weight_mats, biases):\n",
        "    z = w @ x + b\n",
        "    x = sigmoid(z)\n",
        "  return x"
      ],
      "metadata": {
        "id": "_C8DdHRx7OAW"
      },
      "execution_count": null,
      "outputs": []
    },
    {
      "cell_type": "code",
      "source": [
        "torch.autograd.set_detect_anomaly(True)\n",
        "x_train = torch.tensor(X, dtype=torch.float)\n",
        "y_train = torch.tensor(Y, dtype=torch.float)\n",
        "# training\n",
        "BATCH_SIZE = 10\n",
        "LEARNING_RATE = 0.001\n",
        "\n",
        "for epoch in range(100):\n",
        "  print(f'EPOCH {epoch}')\n",
        "\n",
        "  index = np.arange(X.shape[0])\n",
        "  np.random.shuffle(index)\n",
        "  x_shuffled = x_train[index]\n",
        "  y_shuffled = y_train[index]\n",
        "  for i in range(0, X.shape[0], BATCH_SIZE):\n",
        "    x = x_shuffled[i:i+BATCH_SIZE].transpose(0,1)\n",
        "    y = y_shuffled[i:i+BATCH_SIZE]\n",
        "    y = torch.tensor([[1 if i == n else 0 for i in range(10)] for n in y.flatten()]).transpose(0,1)\n",
        "\n",
        "    # forward pass\n",
        "    res = [x]\n",
        "    for w, b in zip(weight_mats, biases):\n",
        "      res.append(sigmoid(w @ res[len(res)-1] + b))\n",
        "      # x = sigmoid(z)\n",
        "\n",
        "    cost_mat = (res[len(res) - 1] - y) ** 2\n",
        "    C = cost_mat.sum() / BATCH_SIZE\n",
        "    if i == 0:\n",
        "      print(f'LOSS: {C}')\n",
        "\n",
        "    C.backward()\n",
        "    with torch.no_grad():\n",
        "      for w, b in zip(weight_mats, biases):\n",
        "        # print(w.grad.shape, w.shape, b.grad.shape, b.shape)\n",
        "        w -= LEARNING_RATE * w.grad\n",
        "        b -= LEARNING_RATE * b.grad\n",
        "        print(w.grad)\n",
        "        # w.grad = None\n",
        "        # b.grad = None\n"
      ],
      "metadata": {
        "colab": {
          "base_uri": "https://localhost:8080/",
          "height": 1000
        },
        "id": "wu_1TAFR7h88",
        "outputId": "17373f06-8337-420f-fa6a-5cec13431ba4"
      },
      "execution_count": null,
      "outputs": [
        {
          "output_type": "stream",
          "name": "stdout",
          "text": [
            "EPOCH 0\n",
            "LOSS: 3.928499937057495\n"
          ]
        },
        {
          "output_type": "stream",
          "name": "stderr",
          "text": [
            "/usr/local/lib/python3.11/dist-packages/torch/autograd/graph.py:823: UserWarning: Error detected in ExpBackward0. Traceback of forward call that caused the error:\n",
            "  File \"<frozen runpy>\", line 198, in _run_module_as_main\n",
            "  File \"<frozen runpy>\", line 88, in _run_code\n",
            "  File \"/usr/local/lib/python3.11/dist-packages/colab_kernel_launcher.py\", line 37, in <module>\n",
            "    ColabKernelApp.launch_instance()\n",
            "  File \"/usr/local/lib/python3.11/dist-packages/traitlets/config/application.py\", line 992, in launch_instance\n",
            "    app.start()\n",
            "  File \"/usr/local/lib/python3.11/dist-packages/ipykernel/kernelapp.py\", line 712, in start\n",
            "    self.io_loop.start()\n",
            "  File \"/usr/local/lib/python3.11/dist-packages/tornado/platform/asyncio.py\", line 205, in start\n",
            "    self.asyncio_loop.run_forever()\n",
            "  File \"/usr/lib/python3.11/asyncio/base_events.py\", line 608, in run_forever\n",
            "    self._run_once()\n",
            "  File \"/usr/lib/python3.11/asyncio/base_events.py\", line 1936, in _run_once\n",
            "    handle._run()\n",
            "  File \"/usr/lib/python3.11/asyncio/events.py\", line 84, in _run\n",
            "    self._context.run(self._callback, *self._args)\n",
            "  File \"/usr/local/lib/python3.11/dist-packages/ipykernel/kernelbase.py\", line 510, in dispatch_queue\n",
            "    await self.process_one()\n",
            "  File \"/usr/local/lib/python3.11/dist-packages/ipykernel/kernelbase.py\", line 499, in process_one\n",
            "    await dispatch(*args)\n",
            "  File \"/usr/local/lib/python3.11/dist-packages/ipykernel/kernelbase.py\", line 406, in dispatch_shell\n",
            "    await result\n",
            "  File \"/usr/local/lib/python3.11/dist-packages/ipykernel/kernelbase.py\", line 730, in execute_request\n",
            "    reply_content = await reply_content\n",
            "  File \"/usr/local/lib/python3.11/dist-packages/ipykernel/ipkernel.py\", line 383, in do_execute\n",
            "    res = shell.run_cell(\n",
            "  File \"/usr/local/lib/python3.11/dist-packages/ipykernel/zmqshell.py\", line 528, in run_cell\n",
            "    return super().run_cell(*args, **kwargs)\n",
            "  File \"/usr/local/lib/python3.11/dist-packages/IPython/core/interactiveshell.py\", line 2975, in run_cell\n",
            "    result = self._run_cell(\n",
            "  File \"/usr/local/lib/python3.11/dist-packages/IPython/core/interactiveshell.py\", line 3030, in _run_cell\n",
            "    return runner(coro)\n",
            "  File \"/usr/local/lib/python3.11/dist-packages/IPython/core/async_helpers.py\", line 78, in _pseudo_sync_runner\n",
            "    coro.send(None)\n",
            "  File \"/usr/local/lib/python3.11/dist-packages/IPython/core/interactiveshell.py\", line 3257, in run_cell_async\n",
            "    has_raised = await self.run_ast_nodes(code_ast.body, cell_name,\n",
            "  File \"/usr/local/lib/python3.11/dist-packages/IPython/core/interactiveshell.py\", line 3473, in run_ast_nodes\n",
            "    if (await self.run_code(code, result,  async_=asy)):\n",
            "  File \"/usr/local/lib/python3.11/dist-packages/IPython/core/interactiveshell.py\", line 3553, in run_code\n",
            "    exec(code_obj, self.user_global_ns, self.user_ns)\n",
            "  File \"<ipython-input-12-839f33baedc8>\", line 23, in <cell line: 0>\n",
            "    res.append(sigmoid(w @ res[len(res)-1] + b))\n",
            "  File \"<ipython-input-11-321f21716895>\", line 12, in sigmoid\n",
            "    return 1 / (1 + torch.exp(-x))\n",
            " (Triggered internally at /pytorch/torch/csrc/autograd/python_anomaly_mode.cpp:122.)\n",
            "  return Variable._execution_engine.run_backward(  # Calls into the C++ engine to run the backward pass\n"
          ]
        },
        {
          "output_type": "error",
          "ename": "RuntimeError",
          "evalue": "Function 'ExpBackward0' returned nan values in its 0th output.",
          "traceback": [
            "\u001b[0;31m---------------------------------------------------------------------------\u001b[0m",
            "\u001b[0;31mRuntimeError\u001b[0m                              Traceback (most recent call last)",
            "\u001b[0;32m<ipython-input-12-839f33baedc8>\u001b[0m in \u001b[0;36m<cell line: 0>\u001b[0;34m()\u001b[0m\n\u001b[1;32m     29\u001b[0m       \u001b[0mprint\u001b[0m\u001b[0;34m(\u001b[0m\u001b[0;34mf'LOSS: {C}'\u001b[0m\u001b[0;34m)\u001b[0m\u001b[0;34m\u001b[0m\u001b[0;34m\u001b[0m\u001b[0m\n\u001b[1;32m     30\u001b[0m \u001b[0;34m\u001b[0m\u001b[0m\n\u001b[0;32m---> 31\u001b[0;31m     \u001b[0mC\u001b[0m\u001b[0;34m.\u001b[0m\u001b[0mbackward\u001b[0m\u001b[0;34m(\u001b[0m\u001b[0;34m)\u001b[0m\u001b[0;34m\u001b[0m\u001b[0;34m\u001b[0m\u001b[0m\n\u001b[0m\u001b[1;32m     32\u001b[0m     \u001b[0;32mwith\u001b[0m \u001b[0mtorch\u001b[0m\u001b[0;34m.\u001b[0m\u001b[0mno_grad\u001b[0m\u001b[0;34m(\u001b[0m\u001b[0;34m)\u001b[0m\u001b[0;34m:\u001b[0m\u001b[0;34m\u001b[0m\u001b[0;34m\u001b[0m\u001b[0m\n\u001b[1;32m     33\u001b[0m       \u001b[0;32mfor\u001b[0m \u001b[0mw\u001b[0m\u001b[0;34m,\u001b[0m \u001b[0mb\u001b[0m \u001b[0;32min\u001b[0m \u001b[0mzip\u001b[0m\u001b[0;34m(\u001b[0m\u001b[0mweight_mats\u001b[0m\u001b[0;34m,\u001b[0m \u001b[0mbiases\u001b[0m\u001b[0;34m)\u001b[0m\u001b[0;34m:\u001b[0m\u001b[0;34m\u001b[0m\u001b[0;34m\u001b[0m\u001b[0m\n",
            "\u001b[0;32m/usr/local/lib/python3.11/dist-packages/torch/_tensor.py\u001b[0m in \u001b[0;36mbackward\u001b[0;34m(self, gradient, retain_graph, create_graph, inputs)\u001b[0m\n\u001b[1;32m    624\u001b[0m                 \u001b[0minputs\u001b[0m\u001b[0;34m=\u001b[0m\u001b[0minputs\u001b[0m\u001b[0;34m,\u001b[0m\u001b[0;34m\u001b[0m\u001b[0;34m\u001b[0m\u001b[0m\n\u001b[1;32m    625\u001b[0m             )\n\u001b[0;32m--> 626\u001b[0;31m         torch.autograd.backward(\n\u001b[0m\u001b[1;32m    627\u001b[0m             \u001b[0mself\u001b[0m\u001b[0;34m,\u001b[0m \u001b[0mgradient\u001b[0m\u001b[0;34m,\u001b[0m \u001b[0mretain_graph\u001b[0m\u001b[0;34m,\u001b[0m \u001b[0mcreate_graph\u001b[0m\u001b[0;34m,\u001b[0m \u001b[0minputs\u001b[0m\u001b[0;34m=\u001b[0m\u001b[0minputs\u001b[0m\u001b[0;34m\u001b[0m\u001b[0;34m\u001b[0m\u001b[0m\n\u001b[1;32m    628\u001b[0m         )\n",
            "\u001b[0;32m/usr/local/lib/python3.11/dist-packages/torch/autograd/__init__.py\u001b[0m in \u001b[0;36mbackward\u001b[0;34m(tensors, grad_tensors, retain_graph, create_graph, grad_variables, inputs)\u001b[0m\n\u001b[1;32m    345\u001b[0m     \u001b[0;31m# some Python versions print out the first line of a multi-line function\u001b[0m\u001b[0;34m\u001b[0m\u001b[0;34m\u001b[0m\u001b[0m\n\u001b[1;32m    346\u001b[0m     \u001b[0;31m# calls in the traceback and some print out the last line\u001b[0m\u001b[0;34m\u001b[0m\u001b[0;34m\u001b[0m\u001b[0m\n\u001b[0;32m--> 347\u001b[0;31m     _engine_run_backward(\n\u001b[0m\u001b[1;32m    348\u001b[0m         \u001b[0mtensors\u001b[0m\u001b[0;34m,\u001b[0m\u001b[0;34m\u001b[0m\u001b[0;34m\u001b[0m\u001b[0m\n\u001b[1;32m    349\u001b[0m         \u001b[0mgrad_tensors_\u001b[0m\u001b[0;34m,\u001b[0m\u001b[0;34m\u001b[0m\u001b[0;34m\u001b[0m\u001b[0m\n",
            "\u001b[0;32m/usr/local/lib/python3.11/dist-packages/torch/autograd/graph.py\u001b[0m in \u001b[0;36m_engine_run_backward\u001b[0;34m(t_outputs, *args, **kwargs)\u001b[0m\n\u001b[1;32m    821\u001b[0m         \u001b[0munregister_hooks\u001b[0m \u001b[0;34m=\u001b[0m \u001b[0m_register_logging_hooks_on_whole_graph\u001b[0m\u001b[0;34m(\u001b[0m\u001b[0mt_outputs\u001b[0m\u001b[0;34m)\u001b[0m\u001b[0;34m\u001b[0m\u001b[0;34m\u001b[0m\u001b[0m\n\u001b[1;32m    822\u001b[0m     \u001b[0;32mtry\u001b[0m\u001b[0;34m:\u001b[0m\u001b[0;34m\u001b[0m\u001b[0;34m\u001b[0m\u001b[0m\n\u001b[0;32m--> 823\u001b[0;31m         return Variable._execution_engine.run_backward(  # Calls into the C++ engine to run the backward pass\n\u001b[0m\u001b[1;32m    824\u001b[0m             \u001b[0mt_outputs\u001b[0m\u001b[0;34m,\u001b[0m \u001b[0;34m*\u001b[0m\u001b[0margs\u001b[0m\u001b[0;34m,\u001b[0m \u001b[0;34m**\u001b[0m\u001b[0mkwargs\u001b[0m\u001b[0;34m\u001b[0m\u001b[0;34m\u001b[0m\u001b[0m\n\u001b[1;32m    825\u001b[0m         )  # Calls into the C++ engine to run the backward pass\n",
            "\u001b[0;31mRuntimeError\u001b[0m: Function 'ExpBackward0' returned nan values in its 0th output."
          ]
        }
      ]
    }
  ],
  "metadata": {
    "colab": {
      "provenance": []
    },
    "kernelspec": {
      "display_name": "Python 3",
      "name": "python3"
    },
    "language_info": {
      "name": "python"
    }
  },
  "nbformat": 4,
  "nbformat_minor": 0
}